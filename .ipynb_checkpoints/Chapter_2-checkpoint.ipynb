{
 "cells": [
  {
   "cell_type": "markdown",
   "id": "724a65cc-af5f-46e6-8085-2064239cf6df",
   "metadata": {},
   "source": [
    "# 현대포트폴리오 자산 배분 이론\n",
    "\n",
    "\\begin{align*}\n",
    "\\text{max}_{w} & \\quad \\mu^T w - \\frac{\\lambda}{2} w^T \\Sigma w \\\\\n",
    "\\text{subject to} & \\quad w^T 1 = 1\n",
    "\\end{align*}\n",
    "\n",
    "- $\\lambda$: 위험 회피 계수\n",
    "- $w$: 자산 편입 비율\n",
    "- $\\mu$: 자산별 기대 수익률 ($W$), $N$: 자산 개수\n",
    "- $\\Sigma$: 자산 수익률의 공분산 행렬 ($N \\times N$)"
   ]
  },
  {
   "cell_type": "markdown",
   "id": "abb26baf-effb-487a-a55c-011b01167623",
   "metadata": {},
   "source": [
    "## 자산 배분 전략의 기본 제약\n",
    "\\begin{align*}\n",
    "&\\text{모델에 활용되는 데이터의 과거 기간 = lookback period = (자산 배분 시점을 기준으로 최근 } n \\text{년 전} \\sim n + \\text{(lookback window)년 전)} \\\\\n",
    "&\\frac{\\lambda}{2} w^T \\Sigma w = \\text{목표 위험 수준}, (c) \\\\\n",
    "&\\text{목표 위험 수준에 맞게 제약 추가} \\\\\n",
    "&\\text{특정 자산으로만 배분되는 문제 발생(코너해 문제) 발생 => } w_i \\leq c \\text{ 상한 제약 추가}\n",
    "\\end{align*}"
   ]
  },
  {
   "cell_type": "markdown",
   "id": "906ca2b2-22c6-4632-8a38-2ae37c4eb57c",
   "metadata": {},
   "source": [
    "## 자산 배분 전략의 실행 과정\n",
    "1. 목표 설정(투자 목표, 위험 허용도, 투자 기간)\n",
    "2. 시장 데이터 수집(KRX, 증권사, 네이버) - 데이터의 일관성을 맞추는 작업 필요\n",
    "3. 자산군 선택(투자 기간이 짧을수록 변동성이 낮은 안정적인 자산에 투자하는 것이 권장됨) - (투자 기간, 위험 허용도, 예상 수익률, 자산 상관관계, 유동성, 세금 및 비용, 경제 및 시장 전망)\n",
    "4. 투자 유니버스 정의(투자 목표, 거래 마찰(fee, slippage), 정보 접근성)\n",
    "5. 자산 배분(균등 배분, 평균-CVaR 최적화(수익률 분포의 꼬리 위험 최소화), 블랙-리터만(개인+시장 결합), 리스크 패리티(모든 자산의 동일 위험 기여도 배분), 이동평균(이동평균 기반의 시그널 , 모멘텀)\n",
    "6. 주문 집행(유동성, 변동성, 시장 트렌드, 수요와 공급 상태 파악) - 전략(시장가, 지정가, 정지 주문, 결합, 트레일링 스톱, 아이스버그, TWAP, VWAP, 스케일 아웃, 알고리듬 ...)\n",
    "7. 정기 리밸런싱\n",
    "8. 시장 모니터링 및 수시 리밸런싱\n",
    "9. 포트폴리오 성능 모니터링(일일&주간&월간, 위험 및 자산 비율 관리, 손익 관리, 투자 목표 조정)"
   ]
  }
 ],
 "metadata": {
  "kernelspec": {
   "display_name": "Python 3 (ipykernel)",
   "language": "python",
   "name": "python3"
  },
  "language_info": {
   "codemirror_mode": {
    "name": "ipython",
    "version": 3
   },
   "file_extension": ".py",
   "mimetype": "text/x-python",
   "name": "python",
   "nbconvert_exporter": "python",
   "pygments_lexer": "ipython3",
   "version": "3.11.7"
  }
 },
 "nbformat": 4,
 "nbformat_minor": 5
}
