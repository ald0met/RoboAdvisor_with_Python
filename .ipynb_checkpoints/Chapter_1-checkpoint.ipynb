{
 "cells": [
  {
   "cell_type": "markdown",
   "id": "456dfe37-8992-4bd3-bdf7-7034f9f0b896",
   "metadata": {},
   "source": [
    "## Moden Portfolio Theory(MPT)\n",
    "\n",
    "Buy-and-Hold 가 원칙이나, 최근에는 이를 여러 방법을 통해 개선함.\n",
    "\n",
    "1. 마켓타이밍 & 전술적 자산 배분 : volatility를 고려한 market timing\n",
    "2. 행동 금융학 : 비이성적 행동. 불완전한 정보. 심리적 편향 (ex- momentum)\n",
    "3. 블랙-리터만 모델 : 개인의 주관적 예상을 조합해 구성, practical optimization\n",
    "4. 리스크 패리티 : 모든 자산이 동일한 위험 기여도를 갖도록 구성, advanced optimization\n",
    "5. 팩터 투자 : factor investment (새로운 방법론)"
   ]
  }
 ],
 "metadata": {
  "kernelspec": {
   "display_name": "Python 3 (ipykernel)",
   "language": "python",
   "name": "python3"
  },
  "language_info": {
   "codemirror_mode": {
    "name": "ipython",
    "version": 3
   },
   "file_extension": ".py",
   "mimetype": "text/x-python",
   "name": "python",
   "nbconvert_exporter": "python",
   "pygments_lexer": "ipython3",
   "version": "3.11.7"
  }
 },
 "nbformat": 4,
 "nbformat_minor": 5
}
