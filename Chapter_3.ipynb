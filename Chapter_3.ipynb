{
 "cells": [
  {
   "cell_type": "code",
   "execution_count": null,
   "id": "b1944a84-6f30-4acf-a2e1-9cbaf2a3ce22",
   "metadata": {},
   "outputs": [],
   "source": [
    "from pykrx import stock"
   ]
  },
  {
   "cell_type": "markdown",
   "id": "bb40e68e-3a27-452c-9895-194173816a7c",
   "metadata": {},
   "source": [
    "## stock module의 get_market_ohlcv()\n",
    "\n",
    "#### OHLCV = open, high, low, close(선호되는 데이터), volume"
   ]
  },
  {
   "cell_type": "code",
   "execution_count": 20,
   "id": "6b5690d6-aadb-4d15-95a5-86a55ccb446b",
   "metadata": {
    "scrolled": true
   },
   "outputs": [
    {
     "name": "stderr",
     "output_type": "stream",
     "text": [
      "/Users/jh/.pyenv/versions/3.11.11/lib/python3.11/site-packages/pykrx/stock/stock_api.py:46: FutureWarning: 'M' is deprecated and will be removed in a future version, please use 'ME' instead.\n",
      "  df = df.resample('M').apply(how)\n"
     ]
    },
    {
     "data": {
      "text/html": [
       "<div>\n",
       "<style scoped>\n",
       "    .dataframe tbody tr th:only-of-type {\n",
       "        vertical-align: middle;\n",
       "    }\n",
       "\n",
       "    .dataframe tbody tr th {\n",
       "        vertical-align: top;\n",
       "    }\n",
       "\n",
       "    .dataframe thead th {\n",
       "        text-align: right;\n",
       "    }\n",
       "</style>\n",
       "<table border=\"1\" class=\"dataframe\">\n",
       "  <thead>\n",
       "    <tr style=\"text-align: right;\">\n",
       "      <th></th>\n",
       "      <th>시가</th>\n",
       "      <th>고가</th>\n",
       "      <th>저가</th>\n",
       "      <th>종가</th>\n",
       "      <th>거래량</th>\n",
       "    </tr>\n",
       "    <tr>\n",
       "      <th>날짜</th>\n",
       "      <th></th>\n",
       "      <th></th>\n",
       "      <th></th>\n",
       "      <th></th>\n",
       "      <th></th>\n",
       "    </tr>\n",
       "  </thead>\n",
       "  <tbody>\n",
       "    <tr>\n",
       "      <th>2020-08-31</th>\n",
       "      <td>56000</td>\n",
       "      <td>56100</td>\n",
       "      <td>54000</td>\n",
       "      <td>54000</td>\n",
       "      <td>32671367</td>\n",
       "    </tr>\n",
       "    <tr>\n",
       "      <th>2020-09-30</th>\n",
       "      <td>54100</td>\n",
       "      <td>61300</td>\n",
       "      <td>54100</td>\n",
       "      <td>58200</td>\n",
       "      <td>426302298</td>\n",
       "    </tr>\n",
       "    <tr>\n",
       "      <th>2020-10-31</th>\n",
       "      <td>57500</td>\n",
       "      <td>61500</td>\n",
       "      <td>56600</td>\n",
       "      <td>56600</td>\n",
       "      <td>327557687</td>\n",
       "    </tr>\n",
       "    <tr>\n",
       "      <th>2020-11-30</th>\n",
       "      <td>56400</td>\n",
       "      <td>69500</td>\n",
       "      <td>56000</td>\n",
       "      <td>66700</td>\n",
       "      <td>496431342</td>\n",
       "    </tr>\n",
       "    <tr>\n",
       "      <th>2020-12-31</th>\n",
       "      <td>67100</td>\n",
       "      <td>73900</td>\n",
       "      <td>67100</td>\n",
       "      <td>73400</td>\n",
       "      <td>239778067</td>\n",
       "    </tr>\n",
       "  </tbody>\n",
       "</table>\n",
       "</div>"
      ],
      "text/plain": [
       "               시가     고가     저가     종가        거래량\n",
       "날짜                                               \n",
       "2020-08-31  56000  56100  54000  54000   32671367\n",
       "2020-09-30  54100  61300  54100  58200  426302298\n",
       "2020-10-31  57500  61500  56600  56600  327557687\n",
       "2020-11-30  56400  69500  56000  66700  496431342\n",
       "2020-12-31  67100  73900  67100  73400  239778067"
      ]
     },
     "execution_count": 20,
     "metadata": {},
     "output_type": "execute_result"
    }
   ],
   "source": [
    "stock.get_market_ohlcv(\"20200831\",\"20201212\",\"005930\",\"m\")"
   ]
  },
  {
   "cell_type": "code",
   "execution_count": 17,
   "id": "0b124dc1-6ac4-4bc2-9752-24f6f7259301",
   "metadata": {},
   "outputs": [
    {
     "data": {
      "text/html": [
       "<div>\n",
       "<style scoped>\n",
       "    .dataframe tbody tr th:only-of-type {\n",
       "        vertical-align: middle;\n",
       "    }\n",
       "\n",
       "    .dataframe tbody tr th {\n",
       "        vertical-align: top;\n",
       "    }\n",
       "\n",
       "    .dataframe thead th {\n",
       "        text-align: right;\n",
       "    }\n",
       "</style>\n",
       "<table border=\"1\" class=\"dataframe\">\n",
       "  <thead>\n",
       "    <tr style=\"text-align: right;\">\n",
       "      <th></th>\n",
       "    </tr>\n",
       "  </thead>\n",
       "  <tbody>\n",
       "  </tbody>\n",
       "</table>\n",
       "</div>"
      ],
      "text/plain": [
       "Empty DataFrame\n",
       "Columns: []\n",
       "Index: []"
      ]
     },
     "execution_count": 17,
     "metadata": {},
     "output_type": "execute_result"
    }
   ],
   "source": [
    "stock.get_market_ohlcv(\"20200831\",\"20201212\",\"005930\",\"m\",adjusted=False)"
   ]
  },
  {
   "cell_type": "markdown",
   "id": "11fb21d4-79c0-4939-8630-a8b5692dd43b",
   "metadata": {},
   "source": [
    "### get_market_ohlcv(시작,종료,종목코드,데이터빈도,수정주가표현여부)"
   ]
  },
  {
   "cell_type": "code",
   "execution_count": 23,
   "id": "5beb54f2-0031-44a4-8521-dd298fa0ceb1",
   "metadata": {},
   "outputs": [
    {
     "name": "stdout",
     "output_type": "stream",
     "text": [
      "               시가     고가     저가     종가       거래량       등락률\n",
      "날짜                                                        \n",
      "2024-12-10  54500  54500  53700  54000  20783970  1.123596\n",
      "2024-12-11  53600  54200  53400  54000  14565947  0.000000\n",
      "2024-12-12  54000  56500  53900  55900  33476698  3.518519\n",
      "              시가    고가    저가    종가    거래량       등락률\n",
      "날짜                                                 \n",
      "2024-12-10  5950  6290  5950  6250  55982  4.515050\n",
      "2024-12-11  6270  6380  6250  6300  52746  0.800000\n",
      "2024-12-12  6400  6420  6280  6340  67534  0.634921\n",
      "               시가     고가     저가     종가      거래량       등락률\n",
      "날짜                                                       \n",
      "2024-12-10  43000  44000  42950  43850  2629946  3.664303\n",
      "2024-12-11  44250  45300  43900  44600  2218036  1.710376\n",
      "2024-12-12  45000  45250  42500  43700  3811891 -2.017937\n"
     ]
    }
   ],
   "source": [
    "import time\n",
    "ticker_list=['005930','000020','035720']\n",
    "for ticker in ticker_list:\n",
    "    df=stock.get_market_ohlcv('20241210','20241212',ticker)\n",
    "    print(df.head())"
   ]
  },
  {
   "cell_type": "markdown",
   "id": "810a9b50-b88c-404c-94e9-c32bf90d1e1b",
   "metadata": {},
   "source": [
    "###  load_stock_data(시작,종료,증권시장이름), 데이터 수집 및 전처리(결측값 대체)"
   ]
  },
  {
   "cell_type": "code",
   "execution_count": 40,
   "id": "3b5ecf38-88f8-4a32-b0b6-1e1629d375bc",
   "metadata": {},
   "outputs": [
    {
     "name": "stdout",
     "output_type": "stream",
     "text": [
      "            ticker   open   high    low  close     volume\n",
      "date                                                     \n",
      "2024-01-31  000020  10270  10760   9630   9650    2127284\n",
      "2024-02-29  000020   9650  10030   9550   9720    1021972\n",
      "2024-03-31  000020   9720   9820   9300   9400    1063795\n",
      "2024-04-30  000020   9400   9510   8340   8720     984442\n",
      "2024-05-31  000020   8750   8850   8240   8280     687687\n",
      "2024-06-30  000020   8280   9200   8020   8060    3236576\n",
      "2024-07-31  000020   8100   8500   7910   8340    2030843\n",
      "2024-08-31  000020   8370   8560   7170   8070    2095813\n",
      "2024-09-30  000020   8090   8090   7370   7760    1171667\n",
      "2024-10-31  000020   7750   8130   7420   7520     970398\n",
      "2024-11-30  000020   7520   7530   6350   6610    1361337\n",
      "2024-12-31  000020   6620   6620   5950   6300    1024441\n",
      "2024-01-31  005930  78200  79800  70700  72700  397638759\n",
      "2024-02-29  005930  73000  75500  72000  73400  298955484\n",
      "2024-03-31  005930  74300  82500  71700  82400  448361736\n",
      "2024-04-30  005930  83200  86000  75100  77500  484342028\n",
      "2024-05-31  005930  77600  81500  73500  73500  421088782\n",
      "2024-06-30  005930  74400  82500  74200  81500  351896233\n",
      "2024-07-31  005930  81500  88800  80000  83900  477159149\n",
      "2024-08-31  005930  86000  86100  70200  74300  402010176\n",
      "2024-09-30  005930  74500  74700  61500  61500  516679519\n",
      "2024-10-31  005930  60500  61900  55700  59200  537302984\n",
      "2024-11-30  005930  59000  59600  49900  54200  581402427\n",
      "2024-12-31  005930  54300  56600  51900  53200  387381948\n",
      "2024-01-31  035720  54300  61900  52200  52500   45631535\n",
      "2024-02-29  035720  51900  61400  51500  53300   36453726\n",
      "2024-03-31  035720  53600  56000  51400  53700   23494921\n",
      "2024-04-30  035720  54100  54500  46600  48600   26972356\n",
      "2024-05-31  035720  48150  50600  43000  43300   24550271\n",
      "2024-06-30  035720  43350  45150  40350  40650   21891758\n",
      "2024-07-31  035720  40300  44000  38100  39200   31596785\n",
      "2024-08-31  035720  39350  40150  35350  37200   29188123\n",
      "2024-09-30  035720  37350  37550  32900  36150   21227235\n",
      "2024-10-31  035720  35700  39800  35500  36950   22529943\n",
      "2024-11-30  035720  36550  40900  32550  40100   30824505\n",
      "2024-12-31  035720  40550  47100  38100  38200   71531547\n"
     ]
    },
    {
     "name": "stderr",
     "output_type": "stream",
     "text": [
      "/var/folders/1j/d_cg9rn93xn390pf9vs669bh0000gn/T/ipykernel_20327/3690556077.py:37: FutureWarning: 'm' is deprecated and will be removed in a future version, please use 'ME' instead.\n",
      "  data = data.groupby('ticker').resample(freq).apply(rule).reset_index(level=0)\n"
     ]
    }
   ],
   "source": [
    "from typing import List\n",
    "import pandas as pd\n",
    "import time\n",
    "\n",
    "class PykrxDataLoader:\n",
    "    def __init__(self, fromdate: str, todate: str, market: str = '-->'):\n",
    "        self.fromdate = fromdate\n",
    "        self.todate = todate\n",
    "        self.market = market\n",
    "\n",
    "    def load_stock_data(self, ticker_list: List[str], freq: str, delay: float = 1):\n",
    "        ticker_data_list = []\n",
    "        for ticker in ticker_list:\n",
    "            ticker_data = stock.get_market_ohlcv(fromdate=self.fromdate,\n",
    "                                                  todate=self.todate,\n",
    "                                                  ticker=ticker,\n",
    "                                                  freq='d',\n",
    "                                                  adjusted=True)\n",
    "            ticker_data = ticker_data.rename(\n",
    "                columns={'시가': 'open', '고가': 'high', '저가': 'low', '종가': 'close', '거래량': 'volume', '거래 대금': 'trading_value', '등락률': 'change_pct'}\n",
    "            )\n",
    "            ticker_data = ticker_data.assign(ticker=ticker)\n",
    "            ticker_data.index.name = 'date'\n",
    "            ticker_data_list.append(ticker_data)\n",
    "            time.sleep(delay)\n",
    "\n",
    "        data = pd.concat(ticker_data_list)\n",
    "        data.loc[data.open == 0, ['open', 'high', 'low']] = data.loc[data.open == 0, 'close']\n",
    "        if freq != 'd':\n",
    "            rule = {\n",
    "                'open': 'first',\n",
    "                'high': 'max',\n",
    "                'low': 'min',\n",
    "                'close': 'last',\n",
    "                'volume': 'sum'\n",
    "            }\n",
    "            data = data.groupby('ticker').resample(freq).apply(rule).reset_index(level=0)\n",
    "        data.__setattr__('frequency', freq)\n",
    "        return data\n",
    "\n",
    "# 데이터 로더 인스턴스 생성\n",
    "fromdate = '2024-01-01'\n",
    "todate = '2024-12-31'\n",
    "ticker_list = ['005930', '000020', '035720']\n",
    "\n",
    "data_loader = PykrxDataLoader(fromdate=fromdate, todate=todate, market='KOSPI')  # 수정된 부분\n",
    "ohlcv_data = data_loader.load_stock_data(ticker_list=ticker_list, freq='m', delay=1)\n",
    "print(ohlcv_data.head(50))"
   ]
  },
  {
   "cell_type": "markdown",
   "id": "ad9ae57d-9d34-4ff2-b6e1-ddd98727c941",
   "metadata": {},
   "source": [
    "### 평균-분산 최적화 : 기대 수익률 = 평균 수익률, 수익률 표본 공분산 행렬 = 자산 간 공분산 행렬로 대체\n",
    "\n",
    "#### PyPortfolioOpt 활용 :\n",
    "##### 기대 수익률 추정 / 위험도 추정 / 최적화 목적 함수 설정 / Optimizer(최적화)"
   ]
  },
  {
   "cell_type": "markdown",
   "id": "70a5115c-4527-4b56-a981-27d06d3608d8",
   "metadata": {},
   "source": [
    "1. 자산별 수익률 계산 with pandas"
   ]
  },
  {
   "cell_type": "code",
   "execution_count": 42,
   "id": "51c5c3f8-b452-4d92-85a5-269cdca9660f",
   "metadata": {},
   "outputs": [],
   "source": [
    "def calculate_return(ohlcv_data:pd.DataFrame):\n",
    "    # 날짜 인덱스와 종목 코드, 종가 2개의 열을 선택 -> 종목 코드와 날짜를 인덱스, 종가를 열로 하는 종가 데이터로 변환\n",
    "    close_data=ohlcv_data[['close','ticker']].reset_index().set_index(\n",
    "        ['ticker','date']) \n",
    "    # unstack() : 종목 코드를 열로 변환(날짜를 인덱스로 하고, 종목 코드를 열, 종가를 값으로 하는 종가 데이터로 변환)\n",
    "    close_data=close_data.unstack(level=0)\n",
    "    close_data=close_data['close']\n",
    "    # 종목별 종가 데이터에 대한 수익률 변환\n",
    "    return_data=close_data.pct_change(1)*100\n",
    "    return return_data"
   ]
  },
  {
   "cell_type": "code",
   "execution_count": 43,
   "id": "d1487763-0423-4065-84fd-7895aff68457",
   "metadata": {},
   "outputs": [
    {
     "data": {
      "text/html": [
       "<div>\n",
       "<style scoped>\n",
       "    .dataframe tbody tr th:only-of-type {\n",
       "        vertical-align: middle;\n",
       "    }\n",
       "\n",
       "    .dataframe tbody tr th {\n",
       "        vertical-align: top;\n",
       "    }\n",
       "\n",
       "    .dataframe thead th {\n",
       "        text-align: right;\n",
       "    }\n",
       "</style>\n",
       "<table border=\"1\" class=\"dataframe\">\n",
       "  <thead>\n",
       "    <tr style=\"text-align: right;\">\n",
       "      <th>ticker</th>\n",
       "      <th>000020</th>\n",
       "      <th>005930</th>\n",
       "      <th>035720</th>\n",
       "    </tr>\n",
       "    <tr>\n",
       "      <th>date</th>\n",
       "      <th></th>\n",
       "      <th></th>\n",
       "      <th></th>\n",
       "    </tr>\n",
       "  </thead>\n",
       "  <tbody>\n",
       "    <tr>\n",
       "      <th>2024-01-31</th>\n",
       "      <td>NaN</td>\n",
       "      <td>NaN</td>\n",
       "      <td>NaN</td>\n",
       "    </tr>\n",
       "    <tr>\n",
       "      <th>2024-02-29</th>\n",
       "      <td>0.725389</td>\n",
       "      <td>0.962861</td>\n",
       "      <td>1.523810</td>\n",
       "    </tr>\n",
       "    <tr>\n",
       "      <th>2024-03-31</th>\n",
       "      <td>-3.292181</td>\n",
       "      <td>12.261580</td>\n",
       "      <td>0.750469</td>\n",
       "    </tr>\n",
       "    <tr>\n",
       "      <th>2024-04-30</th>\n",
       "      <td>-7.234043</td>\n",
       "      <td>-5.946602</td>\n",
       "      <td>-9.497207</td>\n",
       "    </tr>\n",
       "    <tr>\n",
       "      <th>2024-05-31</th>\n",
       "      <td>-5.045872</td>\n",
       "      <td>-5.161290</td>\n",
       "      <td>-10.905350</td>\n",
       "    </tr>\n",
       "    <tr>\n",
       "      <th>2024-06-30</th>\n",
       "      <td>-2.657005</td>\n",
       "      <td>10.884354</td>\n",
       "      <td>-6.120092</td>\n",
       "    </tr>\n",
       "    <tr>\n",
       "      <th>2024-07-31</th>\n",
       "      <td>3.473945</td>\n",
       "      <td>2.944785</td>\n",
       "      <td>-3.567036</td>\n",
       "    </tr>\n",
       "    <tr>\n",
       "      <th>2024-08-31</th>\n",
       "      <td>-3.237410</td>\n",
       "      <td>-11.442193</td>\n",
       "      <td>-5.102041</td>\n",
       "    </tr>\n",
       "    <tr>\n",
       "      <th>2024-09-30</th>\n",
       "      <td>-3.841388</td>\n",
       "      <td>-17.227456</td>\n",
       "      <td>-2.822581</td>\n",
       "    </tr>\n",
       "    <tr>\n",
       "      <th>2024-10-31</th>\n",
       "      <td>-3.092784</td>\n",
       "      <td>-3.739837</td>\n",
       "      <td>2.213001</td>\n",
       "    </tr>\n",
       "    <tr>\n",
       "      <th>2024-11-30</th>\n",
       "      <td>-12.101064</td>\n",
       "      <td>-8.445946</td>\n",
       "      <td>8.525034</td>\n",
       "    </tr>\n",
       "    <tr>\n",
       "      <th>2024-12-31</th>\n",
       "      <td>-4.689864</td>\n",
       "      <td>-1.845018</td>\n",
       "      <td>-4.738155</td>\n",
       "    </tr>\n",
       "  </tbody>\n",
       "</table>\n",
       "</div>"
      ],
      "text/plain": [
       "ticker         000020     005930     035720\n",
       "date                                       \n",
       "2024-01-31        NaN        NaN        NaN\n",
       "2024-02-29   0.725389   0.962861   1.523810\n",
       "2024-03-31  -3.292181  12.261580   0.750469\n",
       "2024-04-30  -7.234043  -5.946602  -9.497207\n",
       "2024-05-31  -5.045872  -5.161290 -10.905350\n",
       "2024-06-30  -2.657005  10.884354  -6.120092\n",
       "2024-07-31   3.473945   2.944785  -3.567036\n",
       "2024-08-31  -3.237410 -11.442193  -5.102041\n",
       "2024-09-30  -3.841388 -17.227456  -2.822581\n",
       "2024-10-31  -3.092784  -3.739837   2.213001\n",
       "2024-11-30 -12.101064  -8.445946   8.525034\n",
       "2024-12-31  -4.689864  -1.845018  -4.738155"
      ]
     },
     "execution_count": 43,
     "metadata": {},
     "output_type": "execute_result"
    }
   ],
   "source": [
    "calculate_return(ohlcv_data)"
   ]
  },
  {
   "cell_type": "code",
   "execution_count": null,
   "id": "45dcd9e2-ee7e-4300-bf3e-1afff5072d08",
   "metadata": {},
   "outputs": [],
   "source": [
    "from typing import Optional, Dict\n",
    "import pandas as pd\n",
    "from PyPortfolioOpt import EfficientFrontier\n",
    "\n",
    "def get_mean_variance_weights(return_data:pd.DataFrame,\n",
    "                              risk_aversion:int)-> Optional[Dict]:\n",
    "    expected_return=return_data.mean(skipna=False).to_list()\n",
    "    cov=return_data.cov(min_periods=len(return_data))\n",
    "    if cov.isnull().values.any() or cov.empty:\n",
    "        return None\n",
    "\n",
    "    ef = EfficientFrontier(\n",
    "        expected_returns=expected_return,\n",
    "        cov_matrix=cov,\n",
    "        solver=\"OSQP\"\n",
    "    )\n",
    "    ef.max_quadratic_utility(risk_aversion=risk_aversion)\n",
    "    weights=dict(ef.clean_weights(rounding=None))\n",
    "    return weights"
   ]
  }
 ],
 "metadata": {
  "kernelspec": {
   "display_name": "Python 3.11.11 (pyenv)",
   "language": "python",
   "name": "pyenv-3.11.11"
  },
  "language_info": {
   "codemirror_mode": {
    "name": "ipython",
    "version": 3
   },
   "file_extension": ".py",
   "mimetype": "text/x-python",
   "name": "python",
   "nbconvert_exporter": "python",
   "pygments_lexer": "ipython3",
   "version": "3.11.11"
  }
 },
 "nbformat": 4,
 "nbformat_minor": 5
}
