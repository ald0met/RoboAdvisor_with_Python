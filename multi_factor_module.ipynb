{
 "cells": [
  {
   "cell_type": "markdown",
   "id": "4964866b-5c58-4236-8874-ecd22c537fd7",
   "metadata": {},
   "source": [
    "# Multi-factor strategy"
   ]
  },
  {
   "cell_type": "code",
   "execution_count": 2,
   "id": "717008ef-bd5e-43ae-8810-758207a52b39",
   "metadata": {},
   "outputs": [],
   "source": [
    "from matplotlib import rc\n",
    "from collections import defaultdict\n",
    "from typing import Optional\n",
    "\n",
    "import FinanceDataReader as fdr\n",
    "import matplotlib.pyplot as plt\n",
    "import numpy as np\n",
    "import pandas as pd\n",
    "import plotly.graph_objs as go\n",
    "import seaborn as sns\n",
    "from sklearn.cluster import KMeans\n",
    "from sklearn.ensemble import RandomForestClassifier\n",
    "from sklearn.linear_model import LinearRegression\n",
    "from sklearn.manifold import TSNE\n",
    "from sklearn.metrics import accuracy_score\n",
    "from sklearn.metrics import confusion_matrix\n",
    "from tqdm import tqdm\n",
    "\n",
    "from data.data_loader import PykrxDataLoader"
   ]
  },
  {
   "cell_type": "code",
   "execution_count": 3,
   "id": "89a44c1c-3a22-4c76-a13c-b5379b16a36d",
   "metadata": {},
   "outputs": [],
   "source": [
    "# 한글 폰트 설정\n",
    "import platform\n",
    "os_system = platform.system()\n",
    "# 시스템에 따라 폰트 설정\n",
    "if os_system == 'Windows':\n",
    "    font_name = 'Malgun Gothic'\n",
    "elif os_system == 'Darwin':  # macOS\n",
    "    font_name = 'AppleGothic'\n",
    "else:\n",
    "    font_name = 'Arial'\n",
    "rc('font', family=font_name)\n",
    "\n",
    "plt.rcParams['axes.unicode_minus'] = False\n",
    "eng_to_kor = {'relative': '모멘텀', 'per': 'PER', 'pbr': 'PBR', 'dividend': '배당',\n",
    "              'small': '소형주', 'lowvol': '로우볼', 'individual': '개인 수급 주체',\n",
    "              'institutional': '기관 수급 주체', 'foreign': '외국인 수급 주체',\n",
    "              'cluster': '군집', 'factor': '전략', 'date': '날짜', 'real': '실제',\n",
    "              'pred': '예측', 'accuracy': '정확도'}"
   ]
  },
  {
   "cell_type": "code",
   "execution_count": 4,
   "id": "6e45a1db-00be-412f-bed6-83c7e9795514",
   "metadata": {},
   "outputs": [],
   "source": [
    "fromdate = '2012-11-01'\n",
    "todate = '2021-12-30'\n",
    "#데이터 종류\n",
    "macro_name = [\n",
    "    # 주요 지수\n",
    "    'KS200',  # 코스피 200\n",
    "    'US500',  # S&P 500 지수\n",
    "    'SSEC',  # 상해 종합\n",
    "    'VIX',  # 공포지수\n",
    "\n",
    "    # 상품 선물\n",
    "    'CL',  # WTI유 선물 Crude Oil (NYMEX)\n",
    "    'GC',  # 금 선물 (COMEX)\n",
    "    'HG=F',  # 구리 선물 (COMEX)\n",
    "\n",
    "    # 환율\n",
    "    'KRW/USD',  # 달러 원화\n",
    "    'KRW/CNY',  # 달러 위엔화\n",
    "\n",
    "    # 채권\n",
    "    'US5YT',  # 5년 만기 미국국채 수익률\n",
    "    'US30YT',  # 30년 만기 미국국채 수익률\n",
    "    'FRED:T10Y3M',  # 미국 장단기금리차(10Y-3M) : 연준에서 중시하는 10년-3개월 금리차\n",
    "\n",
    "    # 경기 지표(미국)\n",
    "    'FRED:M1SL',  # M1 통화량\n",
    "    'FRED:M2',  # M2 통화량\n",
    "    'FRED:HSN1F',  # HSN1F 주택판매지수\n",
    "    'FRED:T5YIFR',  # 5년 기대인플레이션\n",
    "    'FRED:UNRATE',  # 미국 실업률\n",
    "\n",
    "    # 경기 지표(한국)\n",
    "    'FRED:MANMM101KRM189S',  # 대한민국 M1 통화량\n",
    "    'FRED:MYAGM2KRM189S',  # 대한민국 M2 통화량\n",
    "    'FRED:KORCPIALLMINMEI',  # 한국 소비자물가지수: 모든 항목\n",
    "    'FRED:KORLOLITONOSTSAM',  # OECD 선행지수: 대한민국용 정규화된 선행지수\n",
    "    'FRED:XTEXVA01KRM664S',  # 대한민국 수출: 상품 가치\n",
    "    'FRED:XTIMVA01KRM667S',  # 대한민국 수입: 상품 가치\n",
    "]"
   ]
  },
  {
   "cell_type": "code",
   "execution_count": null,
   "id": "3e9e0d25-ade3-44a7-8d9f-ed35d15b8cb4",
   "metadata": {},
   "outputs": [],
   "source": []
  }
 ],
 "metadata": {
  "kernelspec": {
   "display_name": "Python 3.11.11 (pyenv)",
   "language": "python",
   "name": "pyenv-3.11.11"
  },
  "language_info": {
   "codemirror_mode": {
    "name": "ipython",
    "version": 3
   },
   "file_extension": ".py",
   "mimetype": "text/x-python",
   "name": "python",
   "nbconvert_exporter": "python",
   "pygments_lexer": "ipython3",
   "version": "3.11.11"
  }
 },
 "nbformat": 4,
 "nbformat_minor": 5
}
