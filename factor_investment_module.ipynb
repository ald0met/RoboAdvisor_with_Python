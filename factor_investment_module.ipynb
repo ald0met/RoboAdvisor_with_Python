{
 "cells": [
  {
   "cell_type": "markdown",
   "id": "e863bb5b-ef4b-442f-b03d-620e8e34826c",
   "metadata": {},
   "source": [
    "# Factor strategy"
   ]
  }
 ],
 "metadata": {
  "kernelspec": {
   "display_name": "Python 3.11.11 (pyenv)",
   "language": "python",
   "name": "pyenv-3.11.11"
  },
  "language_info": {
   "codemirror_mode": {
    "name": "ipython",
    "version": 3
   },
   "file_extension": ".py",
   "mimetype": "text/x-python",
   "name": "python",
   "nbconvert_exporter": "python",
   "pygments_lexer": "ipython3",
   "version": "3.11.11"
  }
 },
 "nbformat": 4,
 "nbformat_minor": 5
}
